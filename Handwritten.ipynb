{
 "cells": [
  {
   "cell_type": "code",
   "execution_count": 1,
   "metadata": {
    "collapsed": true
   },
   "outputs": [],
   "source": [
    "from sklearn.datasets import fetch_20newsgroups\n",
    "from nltk.stem import WordNetLemmatizer\n",
    "from nltk.corpus import names\n",
    "from collections import Counter\n",
    "from sklearn.feature_extraction.text import TfidfVectorizer\n",
    "from sklearn.metrics import classification_report\n",
    "from sklearn.svm import SVC"
   ]
  },
  {
   "cell_type": "code",
   "execution_count": 2,
   "metadata": {
    "collapsed": true
   },
   "outputs": [],
   "source": [
    "import pandas as pd\n",
    "import numpy as np"
   ]
  },
  {
   "cell_type": "code",
   "execution_count": 3,
   "metadata": {
    "collapsed": true
   },
   "outputs": [],
   "source": [
    "from selenium import webdriver\n",
    "from selenium.webdriver.common.desired_capabilities import DesiredCapabilities"
   ]
  },
  {
   "cell_type": "code",
   "execution_count": 4,
   "metadata": {
    "collapsed": true
   },
   "outputs": [],
   "source": [
    "from bs4 import BeautifulSoup"
   ]
  },
  {
   "cell_type": "code",
   "execution_count": 5,
   "metadata": {
    "collapsed": true
   },
   "outputs": [],
   "source": [
    "import matplotlib.pyplot as plt\n",
    "%matplotlib inline"
   ]
  },
  {
   "cell_type": "code",
   "execution_count": 24,
   "metadata": {},
   "outputs": [
    {
     "data": {
      "image/png": "[encoded data removed]",
      "text/plain": [
       "<matplotlib.figure.Figure at 0x24ec3a06518>"
      ]
     },
     "metadata": {},
     "output_type": "display_data"
    }
   ],
   "source": [
    "from sklearn import datasets\n",
    "import matplotlib.pyplot as plt\n",
    "import numpy as np\n",
    "%matplotlib inline\n",
    "digits = datasets.load_digits()\n",
    "def display_img(img_no):\n",
    "    fig, ax = plt.subplots()\n",
    "    ax.set_xticklabels([])\n",
    "    ax.set_yticklabels([])\n",
    "    ax.matshow(digits.images[img_no], cmap = plt.cm.binary);\n",
    "display_img(1)"
   ]
  },
  {
   "cell_type": "code",
   "execution_count": 23,
   "metadata": {},
   "outputs": [
    {
     "data": {
      "text/plain": [
       "<matplotlib.image.AxesImage at 0x24ec40c34e0>"
      ]
     },
     "execution_count": 23,
     "metadata": {},
     "output_type": "execute_result"
    },
    {
     "data": {
      "image/png": "[encoded data removed]",
      "text/plain": [
       "<matplotlib.figure.Figure at 0x24ec403c7b8>"
      ]
     },
     "metadata": {},
     "output_type": "display_data"
    }
   ],
   "source": [
    "fig, ax = plt.subplots()\n",
    "ax.set_xticklabels([])\n",
    "ax.set_yticklabels([])\n",
    "ax.matshow(digits.images[0]* 20 + 20, cmap = plt.cm.binary)"
   ]
  },
  {
   "cell_type": "code",
   "execution_count": 25,
   "metadata": {
    "collapsed": true
   },
   "outputs": [],
   "source": [
    "import pandas as pd\n",
    "from sklearn.metrics.pairwise import cosine_similarity"
   ]
  },
  {
   "cell_type": "code",
   "execution_count": 26,
   "metadata": {
    "collapsed": true
   },
   "outputs": [],
   "source": [
    "X = digits.data\n",
    "co_sim = cosine_similarity(X[0].reshape(1,-1), X)"
   ]
  },
  {
   "cell_type": "code",
   "execution_count": 35,
   "metadata": {
    "collapsed": true
   },
   "outputs": [
    {
     "data": {
      "text/html": [
       "<div>\n",
       "<style>\n",
       "    .dataframe thead tr:only-child th {\n",
       "        text-align: right;\n",
       "    }\n",
       "\n",
       "    .dataframe thead th {\n",
       "        text-align: left;\n",
       "    }\n",
       "\n",
       "    .dataframe tbody tr th {\n",
       "        vertical-align: top;\n",
       "    }\n",
       "</style>\n",
       "<table border=\"1\" class=\"dataframe\">\n",
       "  <thead>\n",
       "    <tr style=\"text-align: right;\">\n",
       "      <th></th>\n",
       "      <th>similarity</th>\n",
       "    </tr>\n",
       "  </thead>\n",
       "  <tbody>\n",
       "    <tr>\n",
       "      <th>0</th>\n",
       "      <td>1.000000</td>\n",
       "    </tr>\n",
       "    <tr>\n",
       "      <th>877</th>\n",
       "      <td>0.980739</td>\n",
       "    </tr>\n",
       "    <tr>\n",
       "      <th>464</th>\n",
       "      <td>0.974474</td>\n",
       "    </tr>\n",
       "    <tr>\n",
       "      <th>1365</th>\n",
       "      <td>0.974188</td>\n",
       "    </tr>\n",
       "    <tr>\n",
       "      <th>1541</th>\n",
       "      <td>0.971831</td>\n",
       "    </tr>\n",
       "    <tr>\n",
       "      <th>1167</th>\n",
       "      <td>0.971130</td>\n",
       "    </tr>\n",
       "    <tr>\n",
       "      <th>1029</th>\n",
       "      <td>0.970858</td>\n",
       "    </tr>\n",
       "    <tr>\n",
       "      <th>396</th>\n",
       "      <td>0.968793</td>\n",
       "    </tr>\n",
       "    <tr>\n",
       "      <th>1697</th>\n",
       "      <td>0.966019</td>\n",
       "    </tr>\n",
       "    <tr>\n",
       "      <th>646</th>\n",
       "      <td>0.965490</td>\n",
       "    </tr>\n",
       "    <tr>\n",
       "      <th>1342</th>\n",
       "      <td>0.963990</td>\n",
       "    </tr>\n",
       "    <tr>\n",
       "      <th>160</th>\n",
       "      <td>0.961824</td>\n",
       "    </tr>\n",
       "    <tr>\n",
       "      <th>957</th>\n",
       "      <td>0.960468</td>\n",
       "    </tr>\n",
       "    <tr>\n",
       "      <th>335</th>\n",
       "      <td>0.959937</td>\n",
       "    </tr>\n",
       "    <tr>\n",
       "      <th>1463</th>\n",
       "      <td>0.958401</td>\n",
       "    </tr>\n",
       "    <tr>\n",
       "      <th>855</th>\n",
       "      <td>0.958079</td>\n",
       "    </tr>\n",
       "    <tr>\n",
       "      <th>229</th>\n",
       "      <td>0.957180</td>\n",
       "    </tr>\n",
       "    <tr>\n",
       "      <th>642</th>\n",
       "      <td>0.956975</td>\n",
       "    </tr>\n",
       "    <tr>\n",
       "      <th>682</th>\n",
       "      <td>0.956633</td>\n",
       "    </tr>\n",
       "    <tr>\n",
       "      <th>812</th>\n",
       "      <td>0.954502</td>\n",
       "    </tr>\n",
       "    <tr>\n",
       "      <th>276</th>\n",
       "      <td>0.953733</td>\n",
       "    </tr>\n",
       "    <tr>\n",
       "      <th>311</th>\n",
       "      <td>0.953675</td>\n",
       "    </tr>\n",
       "    <tr>\n",
       "      <th>725</th>\n",
       "      <td>0.953565</td>\n",
       "    </tr>\n",
       "    <tr>\n",
       "      <th>30</th>\n",
       "      <td>0.953453</td>\n",
       "    </tr>\n",
       "    <tr>\n",
       "      <th>666</th>\n",
       "      <td>0.952949</td>\n",
       "    </tr>\n",
       "    <tr>\n",
       "      <th>516</th>\n",
       "      <td>0.952674</td>\n",
       "    </tr>\n",
       "    <tr>\n",
       "      <th>305</th>\n",
       "      <td>0.952255</td>\n",
       "    </tr>\n",
       "    <tr>\n",
       "      <th>724</th>\n",
       "      <td>0.951774</td>\n",
       "    </tr>\n",
       "    <tr>\n",
       "      <th>1494</th>\n",
       "      <td>0.951671</td>\n",
       "    </tr>\n",
       "    <tr>\n",
       "      <th>458</th>\n",
       "      <td>0.951614</td>\n",
       "    </tr>\n",
       "    <tr>\n",
       "      <th>...</th>\n",
       "      <td>...</td>\n",
       "    </tr>\n",
       "    <tr>\n",
       "      <th>1372</th>\n",
       "      <td>0.486735</td>\n",
       "    </tr>\n",
       "    <tr>\n",
       "      <th>1613</th>\n",
       "      <td>0.486612</td>\n",
       "    </tr>\n",
       "    <tr>\n",
       "      <th>517</th>\n",
       "      <td>0.485804</td>\n",
       "    </tr>\n",
       "    <tr>\n",
       "      <th>972</th>\n",
       "      <td>0.484865</td>\n",
       "    </tr>\n",
       "    <tr>\n",
       "      <th>1000</th>\n",
       "      <td>0.479740</td>\n",
       "    </tr>\n",
       "    <tr>\n",
       "      <th>1357</th>\n",
       "      <td>0.479682</td>\n",
       "    </tr>\n",
       "    <tr>\n",
       "      <th>623</th>\n",
       "      <td>0.476078</td>\n",
       "    </tr>\n",
       "    <tr>\n",
       "      <th>215</th>\n",
       "      <td>0.473342</td>\n",
       "    </tr>\n",
       "    <tr>\n",
       "      <th>107</th>\n",
       "      <td>0.472412</td>\n",
       "    </tr>\n",
       "    <tr>\n",
       "      <th>1634</th>\n",
       "      <td>0.471961</td>\n",
       "    </tr>\n",
       "    <tr>\n",
       "      <th>777</th>\n",
       "      <td>0.469736</td>\n",
       "    </tr>\n",
       "    <tr>\n",
       "      <th>85</th>\n",
       "      <td>0.466485</td>\n",
       "    </tr>\n",
       "    <tr>\n",
       "      <th>994</th>\n",
       "      <td>0.466440</td>\n",
       "    </tr>\n",
       "    <tr>\n",
       "      <th>1590</th>\n",
       "      <td>0.463689</td>\n",
       "    </tr>\n",
       "    <tr>\n",
       "      <th>1380</th>\n",
       "      <td>0.456986</td>\n",
       "    </tr>\n",
       "    <tr>\n",
       "      <th>609</th>\n",
       "      <td>0.456557</td>\n",
       "    </tr>\n",
       "    <tr>\n",
       "      <th>1377</th>\n",
       "      <td>0.449912</td>\n",
       "    </tr>\n",
       "    <tr>\n",
       "      <th>267</th>\n",
       "      <td>0.449633</td>\n",
       "    </tr>\n",
       "    <tr>\n",
       "      <th>336</th>\n",
       "      <td>0.446742</td>\n",
       "    </tr>\n",
       "    <tr>\n",
       "      <th>1621</th>\n",
       "      <td>0.442270</td>\n",
       "    </tr>\n",
       "    <tr>\n",
       "      <th>1551</th>\n",
       "      <td>0.440442</td>\n",
       "    </tr>\n",
       "    <tr>\n",
       "      <th>341</th>\n",
       "      <td>0.430761</td>\n",
       "    </tr>\n",
       "    <tr>\n",
       "      <th>1648</th>\n",
       "      <td>0.426239</td>\n",
       "    </tr>\n",
       "    <tr>\n",
       "      <th>1329</th>\n",
       "      <td>0.425764</td>\n",
       "    </tr>\n",
       "    <tr>\n",
       "      <th>1640</th>\n",
       "      <td>0.420540</td>\n",
       "    </tr>\n",
       "    <tr>\n",
       "      <th>1334</th>\n",
       "      <td>0.420014</td>\n",
       "    </tr>\n",
       "    <tr>\n",
       "      <th>1585</th>\n",
       "      <td>0.402730</td>\n",
       "    </tr>\n",
       "    <tr>\n",
       "      <th>1213</th>\n",
       "      <td>0.393677</td>\n",
       "    </tr>\n",
       "    <tr>\n",
       "      <th>1631</th>\n",
       "      <td>0.368377</td>\n",
       "    </tr>\n",
       "    <tr>\n",
       "      <th>1626</th>\n",
       "      <td>0.361120</td>\n",
       "    </tr>\n",
       "  </tbody>\n",
       "</table>\n",
       "<p>1797 rows × 1 columns</p>\n",
       "</div>"
      ],
      "text/plain": [
       "      similarity\n",
       "0       1.000000\n",
       "877     0.980739\n",
       "464     0.974474\n",
       "1365    0.974188\n",
       "1541    0.971831\n",
       "1167    0.971130\n",
       "1029    0.970858\n",
       "396     0.968793\n",
       "1697    0.966019\n",
       "646     0.965490\n",
       "1342    0.963990\n",
       "160     0.961824\n",
       "957     0.960468\n",
       "335     0.959937\n",
       "1463    0.958401\n",
       "855     0.958079\n",
       "229     0.957180\n",
       "642     0.956975\n",
       "682     0.956633\n",
       "812     0.954502\n",
       "276     0.953733\n",
       "311     0.953675\n",
       "725     0.953565\n",
       "30      0.953453\n",
       "666     0.952949\n",
       "516     0.952674\n",
       "305     0.952255\n",
       "724     0.951774\n",
       "1494    0.951671\n",
       "458     0.951614\n",
       "...          ...\n",
       "1372    0.486735\n",
       "1613    0.486612\n",
       "517     0.485804\n",
       "972     0.484865\n",
       "1000    0.479740\n",
       "1357    0.479682\n",
       "623     0.476078\n",
       "215     0.473342\n",
       "107     0.472412\n",
       "1634    0.471961\n",
       "777     0.469736\n",
       "85      0.466485\n",
       "994     0.466440\n",
       "1590    0.463689\n",
       "1380    0.456986\n",
       "609     0.456557\n",
       "1377    0.449912\n",
       "267     0.449633\n",
       "336     0.446742\n",
       "1621    0.442270\n",
       "1551    0.440442\n",
       "341     0.430761\n",
       "1648    0.426239\n",
       "1329    0.425764\n",
       "1640    0.420540\n",
       "1334    0.420014\n",
       "1585    0.402730\n",
       "1213    0.393677\n",
       "1631    0.368377\n",
       "1626    0.361120\n",
       "\n",
       "[1797 rows x 1 columns]"
      ]
     },
     "execution_count": 35,
     "metadata": {},
     "output_type": "execute_result"
    }
   ],
   "source": [
    "cosf = pd.DataFrame(co_sim).T\n",
    "cosf.columns = ['similarity']\n",
    "cosf.sort_values('similarity', ascending=False)"
   ]
  },
  {
   "cell_type": "code",
   "execution_count": 38,
   "metadata": {},
   "outputs": [],
   "source": [
    "cosf['target'] = digits.target"
   ]
  },
  {
   "cell_type": "code",
   "execution_count": 42,
   "metadata": {},
   "outputs": [],
   "source": [
    "l = cosf[cosf['target']==0]"
   ]
  },
  {
   "cell_type": "code",
   "execution_count": 43,
   "metadata": {
    "collapsed": true
   },
   "outputs": [],
   "source": [
    "from scipy import stats"
   ]
  },
  {
   "cell_type": "code",
   "execution_count": 45,
   "metadata": {
    "collapsed": true
   },
   "outputs": [
    {
     "data": {
      "text/plain": [
       "DescribeResult(nobs=178, minmax=(0.70675369136712174, 1.0), mean=0.91918030807760054, variance=0.0016269974795365819, skewness=-1.811989137238429, kurtosis=5.472595681763089)"
      ]
     },
     "execution_count": 45,
     "metadata": {},
     "output_type": "execute_result"
    }
   ],
   "source": [
    "stats.describe(l['similarity'])"
   ]
  },
  {
   "cell_type": "code",
   "execution_count": 53,
   "metadata": {},
   "outputs": [
    {
     "data": {
      "text/plain": [
       "array([0, 1, 2, 3, 4, 5, 6, 7, 8, 9])"
      ]
     },
     "execution_count": 53,
     "metadata": {},
     "output_type": "execute_result"
    }
   ],
   "source": [
    "digits.target[0:10]"
   ]
  },
  {
   "cell_type": "code",
   "execution_count": 55,
   "metadata": {
    "collapsed": true
   },
   "outputs": [
    {
     "name": "stdout",
     "output_type": "stream",
     "text": [
      "\n",
      " i = \n",
      "\n",
      "0\n",
      "DescribeResult(nobs=178, minmax=(0.70675369136712174, 1.0), mean=0.91918030807760054, variance=0.0016269974795365819, skewness=-1.811989137238429, kurtosis=5.472595681763089)\n",
      "\n",
      " i = \n",
      "\n",
      "1\n",
      "DescribeResult(nobs=182, minmax=(0.55403864286806526, 1.0000000000000002), mean=0.84597274134472666, variance=0.008365569883896808, skewness=-1.042394297278553, kurtosis=0.407372263100354)\n",
      "\n",
      " i = \n",
      "\n",
      "2\n",
      "DescribeResult(nobs=177, minmax=(0.60345318863940511, 0.99999999999999978), mean=0.74345039400235458, variance=0.0046225927283742056, skewness=1.098125495606228, kurtosis=1.6237629295568023)\n",
      "\n",
      " i = \n",
      "\n",
      "3\n",
      "DescribeResult(nobs=183, minmax=(0.56197511489453511, 0.99999999999999989), mean=0.83736271650756244, variance=0.0061957723346425598, skewness=-0.7998234938454981, kurtosis=0.4561997684864316)\n",
      "\n",
      " i = \n",
      "\n",
      "4\n",
      "DescribeResult(nobs=181, minmax=(0.36722054435092699, 0.99999999999999978), mean=0.78404887998817152, variance=0.010921922926034357, skewness=-1.1157279961513182, kurtosis=1.913228616081681)\n",
      "\n",
      " i = \n",
      "\n",
      "5\n",
      "DescribeResult(nobs=182, minmax=(0.46263160277825432, 0.99999999999999989), mean=0.72120223630546587, variance=0.010453370276297592, skewness=-0.5073124560008624, kurtosis=-0.304699044357013)\n",
      "\n",
      " i = \n",
      "\n",
      "6\n",
      "DescribeResult(nobs=181, minmax=(0.71561923373455638, 0.99999999999999989), mean=0.87155210953565043, variance=0.0031291263065430629, skewness=-0.17503430429067118, kurtosis=-0.40586935557204784)\n",
      "\n",
      " i = \n",
      "\n",
      "7\n",
      "DescribeResult(nobs=179, minmax=(0.6000427085365484, 1.0), mean=0.80028049751564379, variance=0.0048546797551572464, skewness=-0.15130192853090188, kurtosis=-0.12050837471283948)\n",
      "\n",
      " i = \n",
      "\n",
      "8\n",
      "DescribeResult(nobs=174, minmax=(0.63426351880732779, 1.0), mean=0.84138459078099415, variance=0.0035805923691694633, skewness=-0.46926921356174495, kurtosis=0.14704595233708773)\n",
      "\n",
      " i = \n",
      "\n",
      "9\n",
      "DescribeResult(nobs=180, minmax=(0.624816696034737, 1.0000000000000002), mean=0.78545732145975422, variance=0.0045001190885813423, skewness=-0.07310097001639462, kurtosis=-0.14745072347517674)\n"
     ]
    }
   ],
   "source": [
    "for i in range(0,10):\n",
    "    co_sim = cosine_similarity(X[i].reshape(1,-1), X)\n",
    "    cosf = pd.DataFrame(co_sim).T\n",
    "    cosf.columns = ['similarity']\n",
    "    cosf['target'] = digits.target\n",
    "    l = cosf[cosf['target']==i]\n",
    "    print (\"\\n i = \\n\")\n",
    "    print(i)\n",
    "    print(stats.describe(l['similarity']))"
   ]
  },
  {
   "cell_type": "code",
   "execution_count": 58,
   "metadata": {
    "collapsed": true
   },
   "outputs": [
    {
     "name": "stdout",
     "output_type": "stream",
     "text": [
      "\n",
      " i = \n",
      "\n",
      "0\n",
      "DescribeResult(nobs=178, minmax=(2.749704873187822e-63, 1.0), mean=0.0056179792128143559, variance=0.0056179775090536652, skewness=13.228970092849028, kurtosis=173.00564971750075)\n",
      "\n",
      " i = \n",
      "\n",
      "1\n",
      "DescribeResult(nobs=182, minmax=(9.8253252859260166e-110, 1.0), mean=0.0054945054971247513, variance=0.0054945054944765519, skewness=13.379294632449, kurtosis=177.00552486187848)\n",
      "\n",
      " i = \n",
      "\n",
      "2\n",
      "DescribeResult(nobs=177, minmax=(5.1575456713734347e-101, 1.0), mean=0.0056497175141243016, variance=0.0056497175141242938, skewness=13.191121325277152, kurtosis=172.0056818181818)\n",
      "\n",
      " i = \n",
      "\n",
      "3\n",
      "DescribeResult(nobs=183, minmax=(1.5319090529416059e-91, 1.0), mean=0.0054644812258121071, variance=0.0054644808704543786, skewness=13.416612631565844, kurtosis=178.00549450549298)\n",
      "\n",
      " i = \n",
      "\n",
      "4\n",
      "DescribeResult(nobs=181, minmax=(3.6777683520959176e-136, 1.0), mean=0.0055248618784533516, variance=0.0055248618784530376, skewness=13.341872265748737, kurtosis=176.0055555555554)\n",
      "\n",
      " i = \n",
      "\n",
      "5\n",
      "DescribeResult(nobs=182, minmax=(2.9329365240096509e-142, 1.0), mean=0.0054945054945054949, variance=0.0054945054945054958, skewness=13.379294632448993, kurtosis=177.00552486187843)\n",
      "\n",
      " i = \n",
      "\n",
      "6\n",
      "DescribeResult(nobs=181, minmax=(2.9641633509004363e-78, 1.0), mean=0.0055248626348659013, variance=0.0055248618700485192, skewness=13.341872265748501, kurtosis=176.0055555555512)\n",
      "\n",
      " i = \n",
      "\n",
      "7\n",
      "DescribeResult(nobs=179, minmax=(3.6805976274289127e-87, 1.0), mean=0.0055865921787709785, variance=0.0055865921787709473, skewness=13.266710895226757, kurtosis=174.00561797752815)\n",
      "\n",
      " i = \n",
      "\n",
      "8\n",
      "DescribeResult(nobs=174, minmax=(2.6625015722075958e-94, 1.0), mean=0.0057471264367816091, variance=0.0057471264367816074, skewness=13.076917845838935, kurtosis=169.0057803468208)\n",
      "\n",
      " i = \n",
      "\n",
      "9\n",
      "DescribeResult(nobs=180, minmax=(1.3039558703337235e-108, 1.0), mean=0.0055555555555555558, variance=0.005555555555555554, skewness=13.304344650984458, kurtosis=175.0055865921788)\n"
     ]
    }
   ],
   "source": [
    "for i in range(0,10):\n",
    "    k_sim = chi2_kernel(X[i].reshape(1,-1), X)\n",
    "    kf = pd.DataFrame(k_sim).T\n",
    "    kf.columns = ['similarity']\n",
    "    kf['target'] = digits.target\n",
    "    l = kf[kf['target']==i]\n",
    "    print (\"\\n i = \\n\")\n",
    "    print(i)\n",
    "    print(stats.describe(l['similarity']))"
   ]
  },
  {
   "cell_type": "code",
   "execution_count": 66,
   "metadata": {
    "collapsed": true
   },
   "outputs": [
    {
     "name": "stdout",
     "output_type": "stream",
     "text": [
      "        similarity  target\n",
      "9     1.000000e+00       9\n",
      "251   2.339532e-25       9\n",
      "199   7.275085e-27       9\n",
      "1058  6.499471e-31       9\n",
      "5     6.472692e-33       5\n",
      "1186  1.929261e-33       9\n",
      "1096  2.081918e-34       9\n",
      "220   5.560005e-35       9\n",
      "1146  2.405246e-35       9\n",
      "1795  2.002653e-35       9\n",
      "1686  1.969946e-35       9\n",
      "423   1.115186e-35       9\n",
      "1276  9.006833e-36       9\n",
      "849   5.959759e-36       9\n",
      "1226  3.997041e-36       9\n",
      "459   1.152352e-37       9\n",
      "1060  3.821413e-38       9\n",
      "1038  3.448551e-38       9\n",
      "149   1.772263e-38       9\n",
      "233   4.480303e-39       9\n",
      "1066  1.383135e-40       9\n",
      "491   3.382474e-41       9\n",
      "74    1.551094e-41       5\n",
      "1324  1.425056e-41       9\n",
      "159   3.367134e-42       9\n",
      "203   2.745877e-42       9\n",
      "1119  2.222855e-42       9\n",
      "1740  1.265025e-42       9\n",
      "478   1.104923e-42       9\n",
      "254   9.875210e-43       9\n",
      "...            ...     ...\n",
      "1504  5.785924e-50       3\n",
      "1787  3.897429e-50       5\n",
      "555   3.144978e-50       9\n",
      "748   2.793577e-50       5\n",
      "120   2.627166e-50       5\n",
      "1196  2.557076e-50       9\n",
      "339   9.405905e-51       3\n",
      "1486  7.023548e-51       5\n",
      "1027  3.168671e-51       9\n",
      "1696  3.168002e-51       9\n",
      "913   2.459578e-51       8\n",
      "903   2.406862e-51       8\n",
      "608   2.126867e-51       9\n",
      "1784  1.435644e-51       5\n",
      "1423  8.100403e-52       8\n",
      "105   7.509127e-52       9\n",
      "669   6.269853e-52       3\n",
      "976   6.251953e-52       5\n",
      "1699  5.657984e-52       5\n",
      "923   5.077608e-52       8\n",
      "933   4.056355e-52       8\n",
      "29    3.274447e-52       9\n",
      "735   2.649012e-52       3\n",
      "92    2.441317e-52       9\n",
      "319   2.068159e-52       3\n",
      "1262  1.853511e-52       9\n",
      "139   1.555581e-52       9\n",
      "1759  1.069011e-52       9\n",
      "649   7.213580e-53       3\n",
      "37    6.325804e-53       9\n",
      "\n",
      "[100 rows x 2 columns]\n",
      "\n",
      " i = \n",
      "\n",
      "         similarity  target\n",
      "0      1.927284e-69       0\n",
      "1      9.905039e-85       1\n",
      "2      3.580857e-97       2\n",
      "3      7.703270e-63       3\n",
      "4     1.226335e-100       4\n",
      "5      6.472692e-33       5\n",
      "6      5.590378e-88       6\n",
      "7     2.445877e-104       7\n",
      "8      4.218849e-62       8\n",
      "9      1.000000e+00       9\n",
      "10     3.902629e-77       0\n",
      "11     7.352856e-83       1\n",
      "12     6.852085e-88       2\n",
      "13     1.961332e-70       3\n",
      "14     1.141845e-77       4\n",
      "15     8.016615e-99       5\n",
      "16    1.220525e-101       6\n",
      "17     9.183196e-66       7\n",
      "18     1.365360e-81       8\n",
      "19     1.480238e-63       9\n",
      "20     1.688110e-57       0\n",
      "21     1.357296e-81       1\n",
      "22     8.818411e-82       2\n",
      "23     1.419842e-86       3\n",
      "24     1.931852e-79       4\n",
      "25     5.485387e-72       5\n",
      "26     7.447704e-95       6\n",
      "27     8.323562e-93       7\n",
      "28     2.176989e-62       8\n",
      "29     3.274447e-52       9\n",
      "...             ...     ...\n",
      "1767   1.095003e-86       4\n",
      "1768   5.692910e-63       0\n",
      "1769   2.199341e-57       5\n",
      "1770   3.740991e-61       3\n",
      "1771   2.890755e-98       6\n",
      "1772   3.313823e-58       9\n",
      "1773   2.352911e-83       6\n",
      "1774   1.271531e-66       1\n",
      "1775   2.214770e-81       7\n",
      "1776   1.973543e-49       5\n",
      "1777   1.892421e-94       4\n",
      "1778  4.361833e-116       4\n",
      "1779  6.733915e-110       7\n",
      "1780   1.828795e-80       2\n",
      "1781   7.577908e-67       8\n",
      "1782   2.023683e-85       2\n",
      "1783   1.903618e-81       2\n",
      "1784   1.435644e-51       5\n",
      "1785   7.081511e-85       7\n",
      "1786   1.521548e-47       9\n",
      "1787   3.897429e-50       5\n",
      "1788  1.809671e-103       4\n",
      "1789   1.119090e-78       8\n",
      "1790   1.241338e-73       8\n",
      "1791   3.469112e-92       4\n",
      "1792   2.080248e-48       9\n",
      "1793   1.896095e-79       0\n",
      "1794   3.802009e-75       8\n",
      "1795   2.002653e-35       9\n",
      "1796   7.605212e-55       8\n",
      "\n",
      "[1797 rows x 2 columns]\n",
      "DescribeResult(nobs=180, minmax=(1.3039558703337235e-108, 1.0), mean=0.0055555555555555558, variance=0.005555555555555554, skewness=13.304344650984458, kurtosis=175.0055865921788)\n"
     ]
    }
   ],
   "source": [
    "    k_sim = chi2_kernel(X[9].reshape(1,-1), X)\n",
    "    kf = pd.DataFrame(k_sim).T\n",
    "    kf.columns = ['similarity']\n",
    "    kf['target'] = digits.target\n",
    "    print(kf.sort_values('similarity', ascending=False)[:100])\n",
    "    l = kf[kf['target']==9]\n",
    "    print (\"\\n i = \\n\")\n",
    "    print(kf)\n",
    "    print(stats.describe(l['similarity']))"
   ]
  },
  {
   "cell_type": "code",
   "execution_count": 56,
   "metadata": {
    "collapsed": true
   },
   "outputs": [
    {
     "data": {
      "text/html": [
       "<div>\n",
       "<style>\n",
       "    .dataframe thead tr:only-child th {\n",
       "        text-align: right;\n",
       "    }\n",
       "\n",
       "    .dataframe thead th {\n",
       "        text-align: left;\n",
       "    }\n",
       "\n",
       "    .dataframe tbody tr th {\n",
       "        vertical-align: top;\n",
       "    }\n",
       "</style>\n",
       "<table border=\"1\" class=\"dataframe\">\n",
       "  <thead>\n",
       "    <tr style=\"text-align: right;\">\n",
       "      <th></th>\n",
       "      <th>similarity</th>\n",
       "    </tr>\n",
       "  </thead>\n",
       "  <tbody>\n",
       "    <tr>\n",
       "      <th>0</th>\n",
       "      <td>1.000000e+00</td>\n",
       "    </tr>\n",
       "    <tr>\n",
       "      <th>1167</th>\n",
       "      <td>1.644255e-07</td>\n",
       "    </tr>\n",
       "    <tr>\n",
       "      <th>877</th>\n",
       "      <td>1.040593e-07</td>\n",
       "    </tr>\n",
       "    <tr>\n",
       "      <th>464</th>\n",
       "      <td>1.232666e-08</td>\n",
       "    </tr>\n",
       "    <tr>\n",
       "      <th>1541</th>\n",
       "      <td>8.598399e-09</td>\n",
       "    </tr>\n",
       "    <tr>\n",
       "      <th>1365</th>\n",
       "      <td>8.274881e-09</td>\n",
       "    </tr>\n",
       "    <tr>\n",
       "      <th>1029</th>\n",
       "      <td>1.907361e-09</td>\n",
       "    </tr>\n",
       "    <tr>\n",
       "      <th>855</th>\n",
       "      <td>1.487874e-10</td>\n",
       "    </tr>\n",
       "    <tr>\n",
       "      <th>1697</th>\n",
       "      <td>1.191874e-10</td>\n",
       "    </tr>\n",
       "    <tr>\n",
       "      <th>957</th>\n",
       "      <td>1.870301e-11</td>\n",
       "    </tr>\n",
       "    <tr>\n",
       "      <th>1463</th>\n",
       "      <td>1.714631e-12</td>\n",
       "    </tr>\n",
       "    <tr>\n",
       "      <th>1236</th>\n",
       "      <td>1.528919e-13</td>\n",
       "    </tr>\n",
       "    <tr>\n",
       "      <th>646</th>\n",
       "      <td>8.264444e-14</td>\n",
       "    </tr>\n",
       "    <tr>\n",
       "      <th>335</th>\n",
       "      <td>7.758213e-14</td>\n",
       "    </tr>\n",
       "    <tr>\n",
       "      <th>812</th>\n",
       "      <td>4.250581e-14</td>\n",
       "    </tr>\n",
       "    <tr>\n",
       "      <th>276</th>\n",
       "      <td>2.589843e-14</td>\n",
       "    </tr>\n",
       "    <tr>\n",
       "      <th>305</th>\n",
       "      <td>1.141329e-14</td>\n",
       "    </tr>\n",
       "    <tr>\n",
       "      <th>806</th>\n",
       "      <td>1.101042e-14</td>\n",
       "    </tr>\n",
       "    <tr>\n",
       "      <th>311</th>\n",
       "      <td>6.290698e-15</td>\n",
       "    </tr>\n",
       "    <tr>\n",
       "      <th>1128</th>\n",
       "      <td>5.081774e-15</td>\n",
       "    </tr>\n",
       "    <tr>\n",
       "      <th>1494</th>\n",
       "      <td>4.847325e-15</td>\n",
       "    </tr>\n",
       "    <tr>\n",
       "      <th>166</th>\n",
       "      <td>4.115303e-15</td>\n",
       "    </tr>\n",
       "    <tr>\n",
       "      <th>516</th>\n",
       "      <td>2.819098e-15</td>\n",
       "    </tr>\n",
       "    <tr>\n",
       "      <th>642</th>\n",
       "      <td>1.384852e-15</td>\n",
       "    </tr>\n",
       "    <tr>\n",
       "      <th>229</th>\n",
       "      <td>1.246194e-15</td>\n",
       "    </tr>\n",
       "    <tr>\n",
       "      <th>1002</th>\n",
       "      <td>1.177180e-15</td>\n",
       "    </tr>\n",
       "    <tr>\n",
       "      <th>676</th>\n",
       "      <td>8.403675e-16</td>\n",
       "    </tr>\n",
       "    <tr>\n",
       "      <th>1745</th>\n",
       "      <td>7.786381e-16</td>\n",
       "    </tr>\n",
       "    <tr>\n",
       "      <th>396</th>\n",
       "      <td>7.525816e-16</td>\n",
       "    </tr>\n",
       "    <tr>\n",
       "      <th>941</th>\n",
       "      <td>6.983304e-16</td>\n",
       "    </tr>\n",
       "    <tr>\n",
       "      <th>...</th>\n",
       "      <td>...</td>\n",
       "    </tr>\n",
       "    <tr>\n",
       "      <th>558</th>\n",
       "      <td>1.580173e-124</td>\n",
       "    </tr>\n",
       "    <tr>\n",
       "      <th>537</th>\n",
       "      <td>1.045260e-124</td>\n",
       "    </tr>\n",
       "    <tr>\n",
       "      <th>1718</th>\n",
       "      <td>8.244835e-125</td>\n",
       "    </tr>\n",
       "    <tr>\n",
       "      <th>987</th>\n",
       "      <td>3.545141e-125</td>\n",
       "    </tr>\n",
       "    <tr>\n",
       "      <th>832</th>\n",
       "      <td>1.385241e-125</td>\n",
       "    </tr>\n",
       "    <tr>\n",
       "      <th>947</th>\n",
       "      <td>1.010415e-125</td>\n",
       "    </tr>\n",
       "    <tr>\n",
       "      <th>1551</th>\n",
       "      <td>8.810739e-126</td>\n",
       "    </tr>\n",
       "    <tr>\n",
       "      <th>1000</th>\n",
       "      <td>4.658142e-126</td>\n",
       "    </tr>\n",
       "    <tr>\n",
       "      <th>1648</th>\n",
       "      <td>3.785987e-126</td>\n",
       "    </tr>\n",
       "    <tr>\n",
       "      <th>572</th>\n",
       "      <td>3.661237e-126</td>\n",
       "    </tr>\n",
       "    <tr>\n",
       "      <th>994</th>\n",
       "      <td>3.042558e-126</td>\n",
       "    </tr>\n",
       "    <tr>\n",
       "      <th>312</th>\n",
       "      <td>2.429941e-126</td>\n",
       "    </tr>\n",
       "    <tr>\n",
       "      <th>953</th>\n",
       "      <td>3.466028e-127</td>\n",
       "    </tr>\n",
       "    <tr>\n",
       "      <th>1437</th>\n",
       "      <td>1.789318e-127</td>\n",
       "    </tr>\n",
       "    <tr>\n",
       "      <th>986</th>\n",
       "      <td>7.574662e-128</td>\n",
       "    </tr>\n",
       "    <tr>\n",
       "      <th>215</th>\n",
       "      <td>5.942922e-128</td>\n",
       "    </tr>\n",
       "    <tr>\n",
       "      <th>1640</th>\n",
       "      <td>1.382383e-128</td>\n",
       "    </tr>\n",
       "    <tr>\n",
       "      <th>336</th>\n",
       "      <td>5.279808e-129</td>\n",
       "    </tr>\n",
       "    <tr>\n",
       "      <th>1380</th>\n",
       "      <td>2.082809e-129</td>\n",
       "    </tr>\n",
       "    <tr>\n",
       "      <th>1329</th>\n",
       "      <td>4.867742e-131</td>\n",
       "    </tr>\n",
       "    <tr>\n",
       "      <th>517</th>\n",
       "      <td>1.673149e-131</td>\n",
       "    </tr>\n",
       "    <tr>\n",
       "      <th>1334</th>\n",
       "      <td>7.601630e-132</td>\n",
       "    </tr>\n",
       "    <tr>\n",
       "      <th>1626</th>\n",
       "      <td>4.137893e-132</td>\n",
       "    </tr>\n",
       "    <tr>\n",
       "      <th>341</th>\n",
       "      <td>2.398919e-132</td>\n",
       "    </tr>\n",
       "    <tr>\n",
       "      <th>623</th>\n",
       "      <td>6.193922e-133</td>\n",
       "    </tr>\n",
       "    <tr>\n",
       "      <th>1585</th>\n",
       "      <td>1.176835e-133</td>\n",
       "    </tr>\n",
       "    <tr>\n",
       "      <th>916</th>\n",
       "      <td>4.820881e-134</td>\n",
       "    </tr>\n",
       "    <tr>\n",
       "      <th>1213</th>\n",
       "      <td>1.319706e-134</td>\n",
       "    </tr>\n",
       "    <tr>\n",
       "      <th>1631</th>\n",
       "      <td>5.139275e-138</td>\n",
       "    </tr>\n",
       "    <tr>\n",
       "      <th>609</th>\n",
       "      <td>2.381570e-138</td>\n",
       "    </tr>\n",
       "  </tbody>\n",
       "</table>\n",
       "<p>1797 rows × 1 columns</p>\n",
       "</div>"
      ],
      "text/plain": [
       "         similarity\n",
       "0      1.000000e+00\n",
       "1167   1.644255e-07\n",
       "877    1.040593e-07\n",
       "464    1.232666e-08\n",
       "1541   8.598399e-09\n",
       "1365   8.274881e-09\n",
       "1029   1.907361e-09\n",
       "855    1.487874e-10\n",
       "1697   1.191874e-10\n",
       "957    1.870301e-11\n",
       "1463   1.714631e-12\n",
       "1236   1.528919e-13\n",
       "646    8.264444e-14\n",
       "335    7.758213e-14\n",
       "812    4.250581e-14\n",
       "276    2.589843e-14\n",
       "305    1.141329e-14\n",
       "806    1.101042e-14\n",
       "311    6.290698e-15\n",
       "1128   5.081774e-15\n",
       "1494   4.847325e-15\n",
       "166    4.115303e-15\n",
       "516    2.819098e-15\n",
       "642    1.384852e-15\n",
       "229    1.246194e-15\n",
       "1002   1.177180e-15\n",
       "676    8.403675e-16\n",
       "1745   7.786381e-16\n",
       "396    7.525816e-16\n",
       "941    6.983304e-16\n",
       "...             ...\n",
       "558   1.580173e-124\n",
       "537   1.045260e-124\n",
       "1718  8.244835e-125\n",
       "987   3.545141e-125\n",
       "832   1.385241e-125\n",
       "947   1.010415e-125\n",
       "1551  8.810739e-126\n",
       "1000  4.658142e-126\n",
       "1648  3.785987e-126\n",
       "572   3.661237e-126\n",
       "994   3.042558e-126\n",
       "312   2.429941e-126\n",
       "953   3.466028e-127\n",
       "1437  1.789318e-127\n",
       "986   7.574662e-128\n",
       "215   5.942922e-128\n",
       "1640  1.382383e-128\n",
       "336   5.279808e-129\n",
       "1380  2.082809e-129\n",
       "1329  4.867742e-131\n",
       "517   1.673149e-131\n",
       "1334  7.601630e-132\n",
       "1626  4.137893e-132\n",
       "341   2.398919e-132\n",
       "623   6.193922e-133\n",
       "1585  1.176835e-133\n",
       "916   4.820881e-134\n",
       "1213  1.319706e-134\n",
       "1631  5.139275e-138\n",
       "609   2.381570e-138\n",
       "\n",
       "[1797 rows x 1 columns]"
      ]
     },
     "execution_count": 56,
     "metadata": {},
     "output_type": "execute_result"
    }
   ],
   "source": [
    "from sklearn.metrics.pairwise import chi2_kernel\n",
    "k_sim = chi2_kernel(X[0].reshape(1,-1), X)\n",
    "kf = pd.DataFrame(k_sim).T\n",
    "kf.columns = ['similarity']\n",
    "kf.sort_values('similarity', ascending=False)"
   ]
  },
  {
   "cell_type": "code",
   "execution_count": 83,
   "metadata": {
    "collapsed": true
   },
   "outputs": [
    {
     "ename": "ModuleNotFoundError",
     "evalue": "No module named 'nolearn'",
     "output_type": "error",
     "traceback": [
      "\u001b[1;31m---------------------------------------------------------------------------\u001b[0m",
      "\u001b[1;31mModuleNotFoundError\u001b[0m                       Traceback (most recent call last)",
      "\u001b[1;32m<ipython-input-83-1575d54165fc>\u001b[0m in \u001b[0;36m<module>\u001b[1;34m()\u001b[0m\n\u001b[0;32m      8\u001b[0m \u001b[1;32mfrom\u001b[0m \u001b[0msklearn\u001b[0m\u001b[1;33m.\u001b[0m\u001b[0mmetrics\u001b[0m \u001b[1;32mimport\u001b[0m \u001b[0maccuracy_score\u001b[0m\u001b[1;33m\u001b[0m\u001b[0m\n\u001b[0;32m      9\u001b[0m \u001b[1;32mfrom\u001b[0m \u001b[0msklearn\u001b[0m \u001b[1;32mimport\u001b[0m \u001b[0mmetrics\u001b[0m\u001b[1;33m\u001b[0m\u001b[0m\n\u001b[1;32m---> 10\u001b[1;33m \u001b[1;32mfrom\u001b[0m \u001b[0mnolearn\u001b[0m\u001b[1;33m.\u001b[0m\u001b[0mdbn\u001b[0m \u001b[1;32mimport\u001b[0m \u001b[0mDBN\u001b[0m\u001b[1;33m\u001b[0m\u001b[0m\n\u001b[0m\u001b[0;32m     11\u001b[0m \u001b[1;32mimport\u001b[0m \u001b[0mtimeit\u001b[0m\u001b[1;33m\u001b[0m\u001b[0m\n",
      "\u001b[1;31mModuleNotFoundError\u001b[0m: No module named 'nolearn'"
     ]
    }
   ],
   "source": [
    "import pandas as pd\n",
    "import numpy as np\n",
    "from sklearn import cross_validation\n",
    "from sklearn.ensemble import RandomForestClassifier\n",
    "from sklearn.svm import LinearSVC\n",
    "from sklearn.linear_model import SGDClassifier\n",
    "from sklearn.neighbors import KNeighborsClassifier\n",
    "from sklearn.metrics import accuracy_score\n",
    "from sklearn import metrics"
   ]
  },
  {
   "cell_type": "code",
   "execution_count": 74,
   "metadata": {},
   "outputs": [],
   "source": [
    "X = digits.data\n",
    "y = digits.target\n",
    "X_train, X_test, y_train, y_test = cross_validation.train_test_split(X,y,test_size=0.1,random_state=50)"
   ]
  },
  {
   "cell_type": "code",
   "execution_count": 90,
   "metadata": {},
   "outputs": [
    {
     "name": "stdout",
     "output_type": "stream",
     "text": [
      "random forest accuracy:  0.955555555556\n",
      "Confusion matrix:\n",
      "[[22  0  0  0  0  0  0  0  0  0]\n",
      " [ 0 15  1  0  0  0  0  0  0  0]\n",
      " [ 0  0 22  0  0  0  0  0  0  0]\n",
      " [ 0  0  1 14  0  0  0  0  1  0]\n",
      " [ 0  0  0  0 17  0  0  0  0  0]\n",
      " [ 0  0  0  0  0 15  0  0  0  0]\n",
      " [ 0  0  0  0  0  0 17  0  0  0]\n",
      " [ 0  0  0  0  0  0  0 15  0  0]\n",
      " [ 0  1  1  0  0  0  0  1 13  0]\n",
      " [ 0  1  1  0  0  0  0  0  0 22]]\n"
     ]
    }
   ],
   "source": [
    "clf_rf = RandomForestClassifier()\n",
    "clf_rf.fit(X_train, y_train)\n",
    "y_pred_rf = clf_rf.predict(X_test)\n",
    "acc_rf = accuracy_score(y_test, y_pred_rf)\n",
    "print (\"random forest accuracy: \",acc_rf)\n",
    "print(\"Confusion matrix:\\n%s\" % metrics.confusion_matrix(y_test,  y_pred_rf))"
   ]
  },
  {
   "cell_type": "code",
   "execution_count": 111,
   "metadata": {},
   "outputs": [
    {
     "name": "stdout",
     "output_type": "stream",
     "text": [
      "0 : 22 22 1.0\n",
      "1 : 16 17 1.0625\n",
      "2 : 22 26 1.1818181818181819\n",
      "3 : 16 14 0.875\n",
      "4 : 17 17 1.0\n",
      "5 : 15 15 1.0\n",
      "6 : 17 17 1.0\n",
      "7 : 15 16 1.0666666666666667\n",
      "8 : 16 14 0.875\n",
      "9 : 24 22 0.9166666666666666\n"
     ]
    }
   ],
   "source": [
    "for i in range(0,10):\n",
    "    print(i , \":\" , len(y_test[y_test==i]),len(y_pred_rf[y_pred_rf==i]),len(y_pred_rf[y_pred_rf==i])/len(y_test[y_test==i]))"
   ]
  },
  {
   "cell_type": "code",
   "execution_count": 89,
   "metadata": {},
   "outputs": [
    {
     "name": "stdout",
     "output_type": "stream",
     "text": [
      "stochastic gradient descent accuracy:  0.944444444444\n",
      "Confusion matrix:\n",
      "[[22  0  0  0  0  0  0  0  0  0]\n",
      " [ 0 15  0  0  0  0  0  0  1  0]\n",
      " [ 0  0 22  0  0  0  0  0  0  0]\n",
      " [ 0  0  0 12  0  1  0  0  3  0]\n",
      " [ 0  0  0  0 15  1  1  0  0  0]\n",
      " [ 0  0  0  0  0 15  0  0  0  0]\n",
      " [ 0  0  0  0  0  0 17  0  0  0]\n",
      " [ 0  0  0  0  0  0  0 14  0  1]\n",
      " [ 0  0  0  0  0  0  1  0 15  0]\n",
      " [ 0  0  0  0  0  0  0  0  1 23]]\n"
     ]
    }
   ],
   "source": [
    "clf_sgd = SGDClassifier()\n",
    "clf_sgd.fit(X_train, y_train)\n",
    "y_pred_sgd = clf_sgd.predict(X_test)\n",
    "acc_sgd = accuracy_score(y_test, y_pred_sgd)\n",
    "print (\"stochastic gradient descent accuracy: \",acc_sgd)\n",
    "print(\"Confusion matrix:\\n%s\" % metrics.confusion_matrix(y_test, y_pred_sgd))"
   ]
  },
  {
   "cell_type": "code",
   "execution_count": 112,
   "metadata": {},
   "outputs": [
    {
     "name": "stdout",
     "output_type": "stream",
     "text": [
      "0 : 22 22 1.0\n",
      "1 : 16 15 0.9375\n",
      "2 : 22 22 1.0\n",
      "3 : 16 12 0.75\n",
      "4 : 17 15 0.8823529411764706\n",
      "5 : 15 17 1.1333333333333333\n",
      "6 : 17 19 1.1176470588235294\n",
      "7 : 15 14 0.9333333333333333\n",
      "8 : 16 20 1.25\n",
      "9 : 24 24 1.0\n"
     ]
    }
   ],
   "source": [
    "for i in range(0,10):\n",
    "    print(i , \":\" , len(y_test[y_test==i]),len(y_pred_sgd[y_pred_sgd==i]),len(y_pred_sgd[y_pred_sgd==i])/len(y_test[y_test==i]))"
   ]
  },
  {
   "cell_type": "code",
   "execution_count": 126,
   "metadata": {},
   "outputs": [
    {
     "name": "stdout",
     "output_type": "stream",
     "text": [
      "nearest neighbors accuracy:  0.972222222222\n",
      "Confusion matrix:\n",
      "[[22  0  0  0  0  0  0  0  0  0]\n",
      " [ 0 16  0  0  0  0  0  0  0  0]\n",
      " [ 0  0 22  0  0  0  0  0  0  0]\n",
      " [ 0  0  0 14  0  0  0  1  0  1]\n",
      " [ 0  0  0  0 17  0  0  0  0  0]\n",
      " [ 0  0  0  0  0 15  0  0  0  0]\n",
      " [ 0  0  0  0  0  0 17  0  0  0]\n",
      " [ 0  0  0  0  0  0  0 14  0  1]\n",
      " [ 0  0  0  0  0  0  0  0 16  0]\n",
      " [ 0  0  0  1  0  0  0  0  1 22]]\n"
     ]
    }
   ],
   "source": [
    "clf_knn = KNeighborsClassifier()\n",
    "clf_knn.fit(X_train, y_train)\n",
    "y_pred_knn = clf_knn.predict(X_test)\n",
    "acc_knn = accuracy_score(y_test, y_pred_knn)\n",
    "print (\"nearest neighbors accuracy: \",acc_knn)\n",
    "print(\"Confusion matrix:\\n%s\" % metrics.confusion_matrix(y_test, y_pred_knn))"
   ]
  },
  {
   "cell_type": "code",
   "execution_count": 110,
   "metadata": {},
   "outputs": [
    {
     "name": "stdout",
     "output_type": "stream",
     "text": [
      "0 : 22 22 1.0\n",
      "1 : 16 16 1.0\n",
      "2 : 22 22 1.0\n",
      "3 : 16 15 0.9375\n",
      "4 : 17 17 1.0\n",
      "5 : 15 15 1.0\n",
      "6 : 17 17 1.0\n",
      "7 : 15 15 1.0\n",
      "8 : 16 17 1.0625\n",
      "9 : 24 24 1.0\n"
     ]
    }
   ],
   "source": [
    "for i in range(0,10):\n",
    "    print(i , \":\" , len(y_test[y_test==i]),len(y_pred_knn[y_pred_knn==i]),len(y_pred_knn[y_pred_knn==i])/len(y_test[y_test==i]))"
   ]
  },
  {
   "cell_type": "code",
   "execution_count": 114,
   "metadata": {},
   "outputs": [
    {
     "name": "stderr",
     "output_type": "stream",
     "text": [
      "C:\\Users\\Milad\\Anaconda3\\lib\\site-packages\\sklearn\\grid_search.py:43: DeprecationWarning: This module was deprecated in version 0.18 in favor of the model_selection module into which all the refactored classes and functions are moved. This module will be removed in 0.20.\n",
      "  DeprecationWarning)\n"
     ]
    }
   ],
   "source": [
    "from sklearn.grid_search import GridSearchCV"
   ]
  },
  {
   "cell_type": "code",
   "execution_count": 121,
   "metadata": {},
   "outputs": [],
   "source": [
    "k_range = list(range(1, 31))\n",
    "knn = KNeighborsClassifier(n_neighbors=1)\n",
    "param_grid = dict(n_neighbors=k_range)\n",
    "grid = GridSearchCV(knn, param_grid, cv=10, scoring='accuracy', n_jobs=-1)"
   ]
  },
  {
   "cell_type": "code",
   "execution_count": 122,
   "metadata": {
    "collapsed": true
   },
   "outputs": [
    {
     "data": {
      "text/plain": [
       "GridSearchCV(cv=10, error_score='raise',\n",
       "       estimator=KNeighborsClassifier(algorithm='auto', leaf_size=30, metric='minkowski',\n",
       "           metric_params=None, n_jobs=1, n_neighbors=1, p=2,\n",
       "           weights='uniform'),\n",
       "       fit_params={}, iid=True, n_jobs=-1,\n",
       "       param_grid={'n_neighbors': [1, 2, 3, 4, 5, 6, 7, 8, 9, 10, 11, 12, 13, 14, 15, 16, 17, 18, 19, 20, 21, 22, 23, 24, 25, 26, 27, 28, 29, 30]},\n",
       "       pre_dispatch='2*n_jobs', refit=True, scoring='accuracy', verbose=0)"
      ]
     },
     "execution_count": 122,
     "metadata": {},
     "output_type": "execute_result"
    }
   ],
   "source": [
    "grid.fit(X_train, y_train)"
   ]
  },
  {
   "cell_type": "code",
   "execution_count": 123,
   "metadata": {},
   "outputs": [
    {
     "name": "stdout",
     "output_type": "stream",
     "text": [
      "0.9876314162028448\n",
      "{'n_neighbors': 1}\n"
     ]
    }
   ],
   "source": [
    "print(grid.best_score_)\n",
    "print(grid.best_params_)\n"
   ]
  },
  {
   "cell_type": "code",
   "execution_count": 127,
   "metadata": {},
   "outputs": [
    {
     "name": "stdout",
     "output_type": "stream",
     "text": [
      "nearest neighbors accuracy:  0.983333333333\n",
      "Confusion matrix:\n",
      "[[22  0  0  0  0  0  0  0  0  0]\n",
      " [ 0 16  0  0  0  0  0  0  0  0]\n",
      " [ 0  0 22  0  0  0  0  0  0  0]\n",
      " [ 0  0  0 16  0  0  0  0  0  0]\n",
      " [ 0  0  0  0 17  0  0  0  0  0]\n",
      " [ 0  0  0  0  0 15  0  0  0  0]\n",
      " [ 0  0  0  0  0  0 17  0  0  0]\n",
      " [ 0  0  0  0  0  0  0 14  0  1]\n",
      " [ 0  0  0  0  0  0  0  0 16  0]\n",
      " [ 0  0  0  1  0  0  0  0  1 22]]\n"
     ]
    }
   ],
   "source": [
    "clf_knn = KNeighborsClassifier(n_neighbors=1)\n",
    "clf_knn.fit(X_train, y_train)\n",
    "y_pred_knn = clf_knn.predict(X_test)\n",
    "acc_knn = accuracy_score(y_test, y_pred_knn)\n",
    "print (\"nearest neighbors accuracy: \",acc_knn)\n",
    "print(\"Confusion matrix:\\n%s\" % metrics.confusion_matrix(y_test, y_pred_knn))"
   ]
  },
  {
   "cell_type": "code",
   "execution_count": 86,
   "metadata": {},
   "outputs": [
    {
     "name": "stdout",
     "output_type": "stream",
     "text": [
      "Svm accuracy 0.938888888889\n",
      "Confusion matrix:\n",
      "[[22  0  0  0  0  0  0  0  0  0]\n",
      " [ 0 14  0  0  0  0  0  0  2  0]\n",
      " [ 0  0 21  0  0  0  0  0  1  0]\n",
      " [ 0  0  0 12  0  0  0  0  4  0]\n",
      " [ 0  1  0  0 16  0  0  0  0  0]\n",
      " [ 0  0  0  0  0 14  0  0  0  1]\n",
      " [ 0  0  0  0  0  0 17  0  0  0]\n",
      " [ 0  0  0  0  0  1  0 14  0  0]\n",
      " [ 0  0  0  0  0  0  0  0 16  0]\n",
      " [ 0  0  0  0  0  0  0  0  1 23]]\n"
     ]
    }
   ],
   "source": [
    "clf_svm = LinearSVC()\n",
    "clf_svm.fit(X_train,y_train)\n",
    "y_pred_svm=clf_svm.predict(X_test)\n",
    "acc_svm = accuracy_score(y_test,y_pred_svm)\n",
    "print(\"Svm accuracy\" , acc_svm)\n",
    "print(\"Confusion matrix:\\n%s\" % metrics.confusion_matrix(y_test, y_pred_svm))"
   ]
  },
  {
   "cell_type": "code",
   "execution_count": 113,
   "metadata": {},
   "outputs": [
    {
     "name": "stdout",
     "output_type": "stream",
     "text": [
      "0 : 22 22 1.0\n",
      "1 : 16 15 0.9375\n",
      "2 : 22 21 0.9545454545454546\n",
      "3 : 16 12 0.75\n",
      "4 : 17 16 0.9411764705882353\n",
      "5 : 15 15 1.0\n",
      "6 : 17 17 1.0\n",
      "7 : 15 14 0.9333333333333333\n",
      "8 : 16 24 1.5\n",
      "9 : 24 24 1.0\n"
     ]
    }
   ],
   "source": [
    "for i in range(0,10):\n",
    "    print(i , \":\" , len(y_test[y_test==i]),len(y_pred_svm[y_pred_svm==i]),len(y_pred_svm[y_pred_svm==i])/len(y_test[y_test==i]))"
   ]
  }
 ],
 "metadata": {
  "kernelspec": {
   "display_name": "Python 3",
   "language": "python",
   "name": "python3"
  },
  "language_info": {
   "codemirror_mode": {
    "name": "ipython",
    "version": 3
   },
   "file_extension": ".py",
   "mimetype": "text/x-python",
   "name": "python",
   "nbconvert_exporter": "python",
   "pygments_lexer": "ipython3",
   "version": "3.6.3"
  }
 },
 "nbformat": 4,
 "nbformat_minor": 2
}
